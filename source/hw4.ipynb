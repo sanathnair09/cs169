{
 "cells": [
  {
   "cell_type": "markdown",
   "metadata": {},
   "source": [
    "# CS 169 - HW 4\n",
    "# Sanath Nair"
   ]
  },
  {
   "cell_type": "markdown",
   "metadata": {},
   "source": [
    "### 1)\n",
    "\n",
    "I decieded to implement an Augmented Lagrange Method optimizer, using ChatGPT to convert the julia code to python from K&W (p. 183). This function utilizes the minimize method from the [scipy library](https://docs.scipy.org/doc/scipy/reference/generated/scipy.optimize.minimize.html)"
   ]
  },
  {
   "cell_type": "code",
   "execution_count": 100,
   "metadata": {},
   "outputs": [],
   "source": [
    "from time import perf_counter\n",
    "import numpy as np\n",
    "from scipy.optimize import minimize\n",
    "\n",
    "\n",
    "def augmented_lagrangian_method(func, equality_constraint, x, k_max=10, rho=1, gamma=2):\n",
    "    start = perf_counter()\n",
    "    lambda_vec = np.zeros(len(equality_constraint(x)))\n",
    "\n",
    "    for _ in range(1, k_max + 1):\n",
    "        def p(x): return func(x) + rho/2 * \\\n",
    "            np.sum(equality_constraint(x)**2) - np.dot(lambda_vec, equality_constraint(x))\n",
    "        result = minimize(lambda x: func(x) + p(x), x)\n",
    "\n",
    "        x = result.x\n",
    "        rho *= gamma\n",
    "        lambda_vec -= rho * equality_constraint(x)\n",
    "\n",
    "    end = perf_counter()\n",
    "    return x, end - start"
   ]
  },
  {
   "cell_type": "markdown",
   "metadata": {},
   "source": [
    "The code below is from HW2. In order to measure the difference I wanted to use the same test functions and starting values.\n",
    "\n",
    "Below is a generic implementation of the Rosenbrcok function with default values of `a=1` and `b=5`"
   ]
  },
  {
   "cell_type": "code",
   "execution_count": 72,
   "metadata": {},
   "outputs": [],
   "source": [
    "def rosenbrock_generator(*, a=1, b=5):\n",
    "    \"\"\"\n",
    "    arguments a, b must be passed as keyword arguments\n",
    "    \"\"\"\n",
    "    def rosenbrock(*args):\n",
    "        total = 0\n",
    "        for i in range(len(args) - 1):\n",
    "            x1 = args[i]\n",
    "            x2 = args[i+1]\n",
    "            total += (a - x1)**2 + b*(x2 - (x1**2))**2\n",
    "        return total\n",
    "\n",
    "    return rosenbrock\n",
    "\n",
    "\n",
    "def rosenbrock_gradient_generator(*, a=1, b=5):\n",
    "    \"\"\"\n",
    "    arguments a, b must be passed as keyword arguments\n",
    "    \"\"\"\n",
    "    def rosenbrock_gradient(*args):\n",
    "        dx1 = -2*(a-args[0]) + 2*b*(args[1]-args[0]**2)*(-2*args[0])\n",
    "        gradients = [dx1]\n",
    "        for i in range(1, len(args) - 1):\n",
    "            x_prev = args[i-1]\n",
    "            x = args[i]\n",
    "            x_next = args[i+1]\n",
    "            dxn = 2*b*(x - x_prev**2) - 2*(a-x) - 4*b*x*(x_next - x**2)*x\n",
    "            gradients.append(dxn)\n",
    "        dxn = 2 * b * (args[-1] - args[-2]**2)\n",
    "        gradients.append(dxn)\n",
    "        return np.array(gradients)\n",
    "\n",
    "    return rosenbrock_gradient"
   ]
  },
  {
   "cell_type": "markdown",
   "metadata": {},
   "source": [
    "Below is a simple equality constraint that simply returns an array of 0 based on the input dimensions. This should allow us to see if ALM does actually converge to the true minimum of the 10-dim rosenbrock without any constraints."
   ]
  },
  {
   "cell_type": "code",
   "execution_count": 73,
   "metadata": {},
   "outputs": [],
   "source": [
    "def eq_constraints(x):\n",
    "    return np.zeros(x.shape, dtype=float)"
   ]
  },
  {
   "cell_type": "markdown",
   "metadata": {},
   "source": [
    "The function below takes a list of different starting points and runs the gradient descent method collecting data and returning it back. \n",
    "\n",
    "***NOTE (Couple limitation):***\n",
    "1. We don't know the true minimum for higher dimension functions so we cannot measure absolute error\n",
    "2. I use the minimize function from scipy's library and therefore don't have access to the true number of function calls\n",
    "3. Convergence measure is simply number of iterations"
   ]
  },
  {
   "cell_type": "code",
   "execution_count": 105,
   "metadata": {},
   "outputs": [],
   "source": [
    "import pandas as pd\n",
    "\n",
    "\n",
    "def run_test(func, starting_points, /, alpha=0.01, dimensions=10):\n",
    "    data = []\n",
    "    \n",
    "    for starting_point in starting_points:\n",
    "        _, wall_time = augmented_lagrangian_method(func, eq_constraints, starting_point)\n",
    "        data.append(wall_time)\n",
    "\n",
    "    columns = ['wall time']\n",
    "    df = pd.DataFrame(data, columns=columns)\n",
    "\n",
    "    mean_std = df.agg(['mean', 'std'])\n",
    "\n",
    "    # Concatenate the results into a new DataFrame for comparison\n",
    "    return mean_std.T"
   ]
  },
  {
   "cell_type": "markdown",
   "metadata": {},
   "source": [
    "For the starting points since the Rosenbrock's minimum is at (1,1...,1) I will randomly generate points in the range of (-4, 4)."
   ]
  },
  {
   "cell_type": "code",
   "execution_count": 102,
   "metadata": {},
   "outputs": [],
   "source": [
    "def generate_starting_points(N, dim, lower, upper):\n",
    "    random_arrays = []\n",
    "\n",
    "    for _ in range(N):\n",
    "        # Generate a random array of size D with values between lower and upper\n",
    "        random_array = np.random.uniform(lower, upper, dim)\n",
    "        random_arrays.append(random_array)\n",
    "\n",
    "    return random_arrays\n",
    "\n",
    "\n",
    "starting_points = generate_starting_points(50, 10, -4, 4)"
   ]
  },
  {
   "cell_type": "code",
   "execution_count": 106,
   "metadata": {},
   "outputs": [
    {
     "data": {
      "text/html": [
       "<div>\n",
       "<style scoped>\n",
       "    .dataframe tbody tr th:only-of-type {\n",
       "        vertical-align: middle;\n",
       "    }\n",
       "\n",
       "    .dataframe tbody tr th {\n",
       "        vertical-align: top;\n",
       "    }\n",
       "\n",
       "    .dataframe thead th {\n",
       "        text-align: right;\n",
       "    }\n",
       "</style>\n",
       "<table border=\"1\" class=\"dataframe\">\n",
       "  <thead>\n",
       "    <tr style=\"text-align: right;\">\n",
       "      <th></th>\n",
       "      <th>mean</th>\n",
       "      <th>std</th>\n",
       "    </tr>\n",
       "  </thead>\n",
       "  <tbody>\n",
       "    <tr>\n",
       "      <th>wall time</th>\n",
       "      <td>0.003054</td>\n",
       "      <td>0.000621</td>\n",
       "    </tr>\n",
       "  </tbody>\n",
       "</table>\n",
       "</div>"
      ],
      "text/plain": [
       "               mean       std\n",
       "wall time  0.003054  0.000621"
      ]
     },
     "execution_count": 106,
     "metadata": {},
     "output_type": "execute_result"
    }
   ],
   "source": [
    "rosenbrock = rosenbrock_generator()\n",
    "\n",
    "run_test(rosenbrock, starting_points)"
   ]
  }
 ],
 "metadata": {
  "kernelspec": {
   "display_name": "myenv",
   "language": "python",
   "name": "python3"
  },
  "language_info": {
   "codemirror_mode": {
    "name": "ipython",
    "version": 3
   },
   "file_extension": ".py",
   "mimetype": "text/x-python",
   "name": "python",
   "nbconvert_exporter": "python",
   "pygments_lexer": "ipython3",
   "version": "3.10.11"
  }
 },
 "nbformat": 4,
 "nbformat_minor": 2
}
