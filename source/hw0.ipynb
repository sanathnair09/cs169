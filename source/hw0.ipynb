{
 "cells": [
  {
   "cell_type": "markdown",
   "metadata": {},
   "source": [
    "## CS 169 - HW 0\n",
    "## Sanath Nair"
   ]
  },
  {
   "cell_type": "markdown",
   "metadata": {},
   "source": [
    "The example below demonstrates the symbolic differentation abilities of the SymEngine library in Julia"
   ]
  },
  {
   "cell_type": "code",
   "execution_count": 1,
   "metadata": {},
   "outputs": [
    {
     "data": {
      "text/plain": [
       "1/2 + 2*x + sin(x)/x^2 - cos(x)/x"
      ]
     },
     "metadata": {},
     "output_type": "display_data"
    }
   ],
   "source": [
    "# Example 2.1 from K&W\n",
    "using SymEngine;\n",
    "@vars x;\n",
    "f = x^2 + x/2 - sin(x)/x;\n",
    "diff(f,x);"
   ]
  },
  {
   "cell_type": "markdown",
   "metadata": {},
   "source": [
    "The example below demonstrates the central difference method for numerical differentiation."
   ]
  },
  {
   "cell_type": "code",
   "execution_count": 4,
   "metadata": {},
   "outputs": [
    {
     "name": "stdout",
     "output_type": "stream",
     "text": [
      "0.6242698144866649\n",
      "-2.4542516170381785"
     ]
    }
   ],
   "source": [
    "# Example 2.4 from K&W\n",
    "f = x -> sin(x^2);\n",
    "v = f(π/2 + 0.001im);\n",
    "println(real(v)); # f(x)\n",
    "print(imag(v)/0.001); # f'(x)"
   ]
  }
 ],
 "metadata": {
  "kernelspec": {
   "display_name": "Julia 1.9.3",
   "language": "julia",
   "name": "julia-1.9"
  },
  "language_info": {
   "file_extension": ".jl",
   "mimetype": "application/julia",
   "name": "julia",
   "version": "1.9.3"
  },
  "orig_nbformat": 4
 },
 "nbformat": 4,
 "nbformat_minor": 2
}
